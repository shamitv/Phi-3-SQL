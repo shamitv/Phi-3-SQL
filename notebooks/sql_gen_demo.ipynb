{
 "cells": [
  {
   "cell_type": "code",
   "id": "43f9096b-4091-46fb-8d9d-eb7a38d039cc",
   "metadata": {},
   "source": [
    "from langchain_community.llms import LlamaCpp \n",
    "from langchain_core.callbacks import CallbackManager, StreamingStdOutCallbackHandler\n",
    "from langchain_core.prompts import PromptTemplate\n",
    "from langchain_community.utilities.sql_database import SQLDatabase\n",
    "from sqlalchemy import create_engine\n",
    "import pandas as pd\n",
    "import re"
   ],
   "outputs": [],
   "execution_count": null
  },
  {
   "cell_type": "code",
   "id": "45367911f0418fe1",
   "metadata": {
    "collapsed": false,
    "jupyter": {
     "outputs_hidden": false
    }
   },
   "source": [
    "\n",
    "prompt = \"\"\"### Task\n",
    "Generate a SQL query to answer [QUESTION]{question}[/QUESTION]\n",
    "\n",
    "### Instructions\n",
    "- If you cannot answer the question with the available database schema, return 'I do not know'\n",
    "- SQL Dialect is SQLite\n",
    "- Generate only one variation of query\n",
    "- Do not suggest alternative varions for the query \n",
    "\n",
    "### Database Schema\n",
    "This query will run on a database whose schema is represented in this string:\n",
    "{db_schema}\n",
    "### Answer\n",
    "Given the database schema, here is the SQL query that answers [QUESTION]{question}[/QUESTION]\n",
    "[SQL]\n",
    "\"\"\""
   ],
   "outputs": [],
   "execution_count": null
  },
  {
   "cell_type": "code",
   "id": "a4ea4421263c53c0",
   "metadata": {
    "collapsed": false,
    "jupyter": {
     "outputs_hidden": false
    }
   },
   "source": [
    "# Callbacks support streaming output \n",
    "callback = CallbackManager([StreamingStdOutCallbackHandler()])"
   ],
   "outputs": [],
   "execution_count": null
  },
  {
   "cell_type": "code",
   "id": "3d4ec0a1-18dd-4afd-8fa1-c729d7750801",
   "metadata": {},
   "source": [
    "db_file_path = '/home/shamit/proj/genai/data/Chinook_Sqlite.sqlite'\n",
    "db_uri = \"sqlite:///\" + db_file_path\n",
    "db = SQLDatabase.from_uri(db_uri,sample_rows_in_table_info=0)\n",
    "db_engine = create_engine(db_uri)\n",
    "db_schema_str = db.get_table_info()"
   ],
   "outputs": [],
   "execution_count": null
  },
  {
   "cell_type": "code",
   "id": "02a69850-37f6-46f6-83d8-3a3e28eae598",
   "metadata": {},
   "source": [
    "print(db_schema_str)"
   ],
   "outputs": [],
   "execution_count": null
  },
  {
   "cell_type": "code",
   "id": "e3cb4129ea8e2e1f",
   "metadata": {
    "collapsed": false,
    "jupyter": {
     "outputs_hidden": false
    }
   },
   "source": [
    "llm_file_path = '/home/shamit/proj/models/Phi-3-mini-4k-instruct-q4.gguf'"
   ],
   "outputs": [],
   "execution_count": null
  },
  {
   "cell_type": "code",
   "id": "0318d606-18b0-4cab-bc5c-bde9bb0d0e36",
   "metadata": {},
   "source": [
    "llm = LlamaCpp(\n",
    "        model_path=llm_file_path,\n",
    "        n_ctx=4096,\n",
    "        temperature=0,\n",
    "        seed=4381,\n",
    "        max_tokens=10000,\n",
    "        verbose=True,  # Verbose is required to pass to the callback manager\n",
    "        streaming=True,\n",
    "        callback_manager=callback\n",
    "    )"
   ],
   "outputs": [],
   "execution_count": null
  },
  {
   "cell_type": "code",
   "id": "e9e877f4-474e-4936-9350-2373a7a66a4d",
   "metadata": {},
   "source": [
    "inp = prompt.format(question=\"Which customer generated max sales?\",db_schema=db_schema_str)\n",
    "output = llm.invoke(inp)"
   ],
   "outputs": [],
   "execution_count": null
  },
  {
   "cell_type": "code",
   "id": "eecefb86-64f3-4611-83e0-819909d66f58",
   "metadata": {},
   "source": [
    "queries = re.findall('```sql(.*)```', output,flags=re.DOTALL)"
   ],
   "outputs": [],
   "execution_count": null
  },
  {
   "cell_type": "code",
   "id": "71a1b5a2-17c3-4a8f-8154-b65751b3fd0a",
   "metadata": {},
   "source": [],
   "outputs": [],
   "execution_count": null
  },
  {
   "cell_type": "code",
   "id": "8ed75ed5-f219-497f-9106-14f76cb38937",
   "metadata": {},
   "source": [
    "queries "
   ],
   "outputs": [],
   "execution_count": null
  },
  {
   "cell_type": "code",
   "id": "b8a1fb42-d0e3-4854-9a2e-fb4fa5244d90",
   "metadata": {},
   "source": [
    "qry = None\n",
    "df = None\n",
    "if len(queries) > 0:\n",
    "    qry = queries[0].strip()\n",
    "    print(qry)\n",
    "    df = pd.read_sql(qry, db_engine)"
   ],
   "outputs": [],
   "execution_count": null
  },
  {
   "cell_type": "code",
   "id": "b7d1d88d-fd39-4262-b6b1-ca1eb75bdfac",
   "metadata": {},
   "source": [
    "df"
   ],
   "outputs": [],
   "execution_count": null
  },
  {
   "cell_type": "code",
   "id": "544680ed-69b0-4b8b-9db6-5192a98ddf8c",
   "metadata": {},
   "source": [
    "def answer_question(question):\n",
    "    inp = prompt.format(question=question,db_schema=db_schema_str)\n",
    "    output = llm.invoke(inp)\n",
    "    queries = re.findall('```sql(.*)```', output,flags=re.DOTALL)\n",
    "    if len(queries) == 0:\n",
    "        queries = re.findall('SELECT .*;', output,flags=re.DOTALL)\n",
    "    if len(queries) > 0:\n",
    "        qry = queries[0].strip()\n",
    "        print(qry)\n",
    "        df = pd.read_sql(qry, db_engine)\n",
    "        return df \n",
    "    "
   ],
   "outputs": [],
   "execution_count": null
  },
  {
   "cell_type": "code",
   "id": "6805c56c6b059d57",
   "metadata": {
    "collapsed": false,
    "jupyter": {
     "outputs_hidden": false
    }
   },
   "source": [
    "df = answer_question(\"Which customer generated max sales\")"
   ],
   "outputs": [],
   "execution_count": null
  },
  {
   "cell_type": "code",
   "id": "7b82d9e2-c1f6-483b-b858-5e1f4a48a827",
   "metadata": {},
   "source": [
    "df"
   ],
   "outputs": [],
   "execution_count": null
  },
  {
   "cell_type": "code",
   "id": "77e3c4d3-f2e3-4db7-b2ac-eb0ca7f9a6a6",
   "metadata": {},
   "source": [
    "df = answer_question(\"Which album generated max sales\")"
   ],
   "outputs": [],
   "execution_count": null
  },
  {
   "cell_type": "code",
   "id": "6a16eee6-f1dd-4c06-b25d-8d3546a2b295",
   "metadata": {},
   "source": [],
   "outputs": [],
   "execution_count": null
  }
 ],
 "metadata": {
  "kernelspec": {
   "display_name": "Python 3 (ipykernel)",
   "language": "python",
   "name": "python3"
  },
  "language_info": {
   "codemirror_mode": {
    "name": "ipython",
    "version": 3
   },
   "file_extension": ".py",
   "mimetype": "text/x-python",
   "name": "python",
   "nbconvert_exporter": "python",
   "pygments_lexer": "ipython3",
   "version": "3.12.3"
  }
 },
 "nbformat": 4,
 "nbformat_minor": 5
}
